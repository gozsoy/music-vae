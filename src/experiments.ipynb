{
 "cells": [
  {
   "cell_type": "code",
   "execution_count": 1,
   "metadata": {},
   "outputs": [],
   "source": [
    "import librosa.display\n",
    "import matplotlib.pyplot as plt\n",
    "import pretty_midi\n",
    "import mir_eval.display\n",
    "import numpy as np\n",
    "\n",
    "from utils import detect_monophony,is_fourfour,plot_piano_roll"
   ]
  },
  {
   "cell_type": "code",
   "execution_count": null,
   "metadata": {},
   "outputs": [],
   "source": [
    "# TODO:\n",
    "# 1- write a function which gives piano roll and audio of given midi prediction\n",
    "# 2- remove non-4/4 time signatures, set tempo=120, quantize to 16 notes per bar"
   ]
  },
  {
   "cell_type": "code",
   "execution_count": 220,
   "metadata": {},
   "outputs": [
    {
     "data": {
      "image/png": "[encoded data removed]",
      "text/plain": [
       "<Figure size 1440x360 with 1 Axes>"
      ]
     },
     "metadata": {
      "needs_background": "light"
     },
     "output_type": "display_data"
    }
   ],
   "source": [
    "midi_data = pretty_midi.PrettyMIDI('../data/midi_dump/3rdman.mid')\n",
    "plt.figure(figsize=(20, 5))\n",
    "plot_piano_roll(midi_data.instruments[0], 0,127)"
   ]
  },
  {
   "cell_type": "code",
   "execution_count": 91,
   "metadata": {},
   "outputs": [],
   "source": [
    "TEMPO = 120.  # 1 sec = 2 beats\n",
    "SIXTEENTH_NOTE_BEATS = 0.25  # 1 16th note = 0.25 beats\n",
    "SIXTEENTH_NOTE_LEN = SIXTEENTH_NOTE_BEATS / (TEMPO / 60.)  # 1 16th note = 0.125 sec\n",
    "ONE_BAR_LEN = SIXTEENTH_NOTE_LEN * 16  # 16 16th notes = 1 bar = 2 sec\n",
    "EIGHT_BAR_LEN = ONE_BAR_LEN * 8  # 16-bar = 32 sec\n"
   ]
  },
  {
   "cell_type": "code",
   "execution_count": 207,
   "metadata": {},
   "outputs": [],
   "source": [
    "# given single note with start and end time, finds it bins\n",
    "def find_note_bins(note,bin_limits):\n",
    "    temp_start,temp_end = note.start, note.end\n",
    "    start_bin = -1\n",
    "    end_bin = -1\n",
    "    start_time = bin_limits[0]\n",
    "    for i in range(len(bin_limits)-1):\n",
    "        if temp_start >= (i * SIXTEENTH_NOTE_LEN)+start_time and temp_start < ((i+1) * SIXTEENTH_NOTE_LEN) + start_time:\n",
    "            start_bin = i\n",
    "        if temp_end >= (i * SIXTEENTH_NOTE_LEN)+start_time and temp_end < ((i+1) * SIXTEENTH_NOTE_LEN)+ start_time:\n",
    "            end_bin = i\n",
    "\n",
    "    return start_bin,end_bin-1\n",
    "\n",
    "# given a midi note sequence, and bin_limits\n",
    "# returns None if sequence is non-monophonic\n",
    "# returns event-note pairs if monophonic\n",
    "def is_eight_bar_monophonic(temp_notes,bin_limits,bin_idx):\n",
    "    event_per_bar = 16\n",
    "    total_bars = 8\n",
    "    event2note = dict.fromkeys(np.arange(start=bin_idx*event_per_bar*total_bars,stop=(bin_idx+1)*event_per_bar*total_bars-2))\n",
    "    \n",
    "    for temp_note in temp_notes:\n",
    "        if temp_note.start >= bin_limits[0] and temp_note.end <= bin_limits[-1]:\n",
    "            start_bin,end_bin = find_note_bins(temp_note,bin_limits)\n",
    "\n",
    "            start_bin = start_bin + bin_idx*event_per_bar*total_bars\n",
    "            end_bin = end_bin + bin_idx*event_per_bar*total_bars\n",
    "            \n",
    "            temp_bin = start_bin\n",
    "            while temp_bin <= end_bin:\n",
    "                if event2note[temp_bin] is None:\n",
    "                    event2note[temp_bin] = temp_note.pitch\n",
    "                    temp_bin += 1\n",
    "                else:\n",
    "                    return\n",
    "\n",
    "    return event2note"
   ]
  },
  {
   "cell_type": "code",
   "execution_count": 223,
   "metadata": {},
   "outputs": [
    {
     "name": "stdout",
     "output_type": "stream",
     "text": [
      "0\n"
     ]
    }
   ],
   "source": [
    "temp_notes = midi_data.instruments[0].notes\n",
    "\n",
    "monop_count = 0\n",
    "for bin_idx in range(int(np.floor(midi_data.get_end_time() / EIGHT_BAR_LEN))):\n",
    "    bin_limits = np.arange(start=(bin_idx)*EIGHT_BAR_LEN,stop=(bin_idx+1)*EIGHT_BAR_LEN,step=SIXTEENTH_NOTE_LEN)\n",
    "    \n",
    "    if not is_eight_bar_monophonic(temp_notes,bin_limits,bin_idx) is None:\n",
    "        monop_count += 1\n",
    "\n",
    "print(monop_count)\n",
    "\n"
   ]
  },
  {
   "cell_type": "code",
   "execution_count": 170,
   "metadata": {},
   "outputs": [
    {
     "data": {
      "text/plain": [
       "155.53701"
      ]
     },
     "execution_count": 170,
     "metadata": {},
     "output_type": "execute_result"
    }
   ],
   "source": [
    "midi_data.get_end_time() "
   ]
  },
  {
   "cell_type": "code",
   "execution_count": 56,
   "metadata": {},
   "outputs": [
    {
     "name": "stdout",
     "output_type": "stream",
     "text": [
      "163 1277.0\n"
     ]
    }
   ],
   "source": [
    "import glob\n",
    "#midi_list = glob.glob(\"../data/maestro-v3.0.0/*/*.midi\")\n",
    "midi_list = glob.glob(\"../data/midi_dump/*.mid\")\n",
    "\n",
    "total_8bar_count = 0\n",
    "total_monop_count = 0\n",
    "for midi_file in midi_list:\n",
    "    midi_data = pretty_midi.PrettyMIDI(midi_file)\n",
    "    if is_fourfour(midi_data):  # eleminate non-4/4 midi files\n",
    "        print_str,monop_count = detect_monophony(midi_data)\n",
    "        if monop_count >0 :\n",
    "            total_monop_count += monop_count\n",
    "            total_8bar_count += np.floor(midi_data.get_end_time()/16.0)\n",
    "    \n",
    "print(total_monop_count,total_8bar_count)"
   ]
  }
 ],
 "metadata": {
  "interpreter": {
   "hash": "a73d1662bd3aab4de55a1a51be85519c6e25d5d617da76d142a49d5ef38ee143"
  },
  "kernelspec": {
   "display_name": "Python 3.9.7 ('torch_tf_learning')",
   "language": "python",
   "name": "python3"
  },
  "language_info": {
   "codemirror_mode": {
    "name": "ipython",
    "version": 3
   },
   "file_extension": ".py",
   "mimetype": "text/x-python",
   "name": "python",
   "nbconvert_exporter": "python",
   "pygments_lexer": "ipython3",
   "version": "3.9.7"
  },
  "orig_nbformat": 4
 },
 "nbformat": 4,
 "nbformat_minor": 2
}
